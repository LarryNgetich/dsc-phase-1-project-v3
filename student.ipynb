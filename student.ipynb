{
 "cells": [
  {
   "cell_type": "markdown",
   "metadata": {},
   "source": [
    "## Final Project Submission\n",
    "\n",
    "Please fill out:\n",
    "* Student name: Larry Ng'etich\n",
    "* Student pace: full time\n",
    "* Scheduled project review date/time: \n",
    "* Instructor name: Lucille Kaleha, Nikita Njoroge, Asha Deen\n",
    "* Blog post URL:\n"
   ]
  },
  {
   "cell_type": "code",
   "execution_count": 9,
   "metadata": {},
   "outputs": [],
   "source": [
    "# Data cleaning libraries\n",
    "import pandas as pd\n",
    "import numpy as np\n",
    "\n",
    "# Plotting libraries\n",
    "import matplotlib.pyplot as plt\n",
    "import seaborn as sns"
   ]
  },
  {
   "cell_type": "code",
   "execution_count": 10,
   "metadata": {},
   "outputs": [
    {
     "name": "stdout",
     "output_type": "stream",
     "text": [
      "/home/larrytude/Documents/Moringa/Phase_1/dsc-phase-1-project-v3\n"
     ]
    }
   ],
   "source": [
    "import os\n",
    "\n",
    "print(os.getcwd())  # Print the current working directory\n"
   ]
  },
  {
   "cell_type": "code",
   "execution_count": 11,
   "metadata": {},
   "outputs": [
    {
     "name": "stdout",
     "output_type": "stream",
     "text": [
      "         Event.Id Investigation.Type Accident.Number  Event.Date  \\\n",
      "0  20001218X45444           Accident      SEA87LA080  1948-10-24   \n",
      "1  20001218X45447           Accident      LAX94LA336  1962-07-19   \n",
      "2  20061025X01555           Accident      NYC07LA005  1974-08-30   \n",
      "3  20001218X45448           Accident      LAX96LA321  1977-06-19   \n",
      "4  20041105X01764           Accident      CHI79FA064  1979-08-02   \n",
      "\n",
      "          Location        Country Latitude Longitude Airport.Code  \\\n",
      "0  MOOSE CREEK, ID  United States      NaN       NaN          NaN   \n",
      "1   BRIDGEPORT, CA  United States      NaN       NaN          NaN   \n",
      "2    Saltville, VA  United States  36.9222  -81.8781          NaN   \n",
      "3       EUREKA, CA  United States      NaN       NaN          NaN   \n",
      "4       Canton, OH  United States      NaN       NaN          NaN   \n",
      "\n",
      "  Airport.Name  ... Purpose.of.flight Air.carrier Total.Fatal.Injuries  \\\n",
      "0          NaN  ...          Personal         NaN                  2.0   \n",
      "1          NaN  ...          Personal         NaN                  4.0   \n",
      "2          NaN  ...          Personal         NaN                  3.0   \n",
      "3          NaN  ...          Personal         NaN                  2.0   \n",
      "4          NaN  ...          Personal         NaN                  1.0   \n",
      "\n",
      "  Total.Serious.Injuries Total.Minor.Injuries Total.Uninjured  \\\n",
      "0                    0.0                  0.0             0.0   \n",
      "1                    0.0                  0.0             0.0   \n",
      "2                    NaN                  NaN             NaN   \n",
      "3                    0.0                  0.0             0.0   \n",
      "4                    2.0                  NaN             0.0   \n",
      "\n",
      "  Weather.Condition  Broad.phase.of.flight   Report.Status Publication.Date  \n",
      "0               UNK                 Cruise  Probable Cause              NaN  \n",
      "1               UNK                Unknown  Probable Cause       19-09-1996  \n",
      "2               IMC                 Cruise  Probable Cause       26-02-2007  \n",
      "3               IMC                 Cruise  Probable Cause       12-09-2000  \n",
      "4               VMC               Approach  Probable Cause       16-04-1980  \n",
      "\n",
      "[5 rows x 31 columns]\n"
     ]
    },
    {
     "name": "stderr",
     "output_type": "stream",
     "text": [
      "/home/larrytude/anaconda3/envs/learn-env/lib/python3.8/site-packages/IPython/core/interactiveshell.py:3145: DtypeWarning: Columns (6,7,28) have mixed types.Specify dtype option on import or set low_memory=False.\n",
      "  has_raised = await self.run_ast_nodes(code_ast.body, cell_name,\n"
     ]
    }
   ],
   "source": [
    "# Load the CSV file into a DataFrame\n",
    "aviation_df = pd.read_csv('/home/larrytude/Documents/Moringa/Phase_1/dsc-phase-1-project-v3/data/Aviation_Data.csv')\n",
    "\n",
    "# Display the first few rows of the DataFrame\n",
    "print(aviation_df.head())"
   ]
  },
  {
   "cell_type": "code",
   "execution_count": 12,
   "metadata": {},
   "outputs": [
    {
     "data": {
      "text/html": [
       "<div>\n",
       "<style scoped>\n",
       "    .dataframe tbody tr th:only-of-type {\n",
       "        vertical-align: middle;\n",
       "    }\n",
       "\n",
       "    .dataframe tbody tr th {\n",
       "        vertical-align: top;\n",
       "    }\n",
       "\n",
       "    .dataframe thead th {\n",
       "        text-align: right;\n",
       "    }\n",
       "</style>\n",
       "<table border=\"1\" class=\"dataframe\">\n",
       "  <thead>\n",
       "    <tr style=\"text-align: right;\">\n",
       "      <th></th>\n",
       "      <th>Event.Id</th>\n",
       "      <th>Investigation.Type</th>\n",
       "      <th>Accident.Number</th>\n",
       "      <th>Event.Date</th>\n",
       "      <th>Location</th>\n",
       "      <th>Country</th>\n",
       "      <th>Latitude</th>\n",
       "      <th>Longitude</th>\n",
       "      <th>Airport.Code</th>\n",
       "      <th>Airport.Name</th>\n",
       "      <th>...</th>\n",
       "      <th>Purpose.of.flight</th>\n",
       "      <th>Air.carrier</th>\n",
       "      <th>Total.Fatal.Injuries</th>\n",
       "      <th>Total.Serious.Injuries</th>\n",
       "      <th>Total.Minor.Injuries</th>\n",
       "      <th>Total.Uninjured</th>\n",
       "      <th>Weather.Condition</th>\n",
       "      <th>Broad.phase.of.flight</th>\n",
       "      <th>Report.Status</th>\n",
       "      <th>Publication.Date</th>\n",
       "    </tr>\n",
       "  </thead>\n",
       "  <tbody>\n",
       "    <tr>\n",
       "      <th>0</th>\n",
       "      <td>20001218X45444</td>\n",
       "      <td>Accident</td>\n",
       "      <td>SEA87LA080</td>\n",
       "      <td>1948-10-24</td>\n",
       "      <td>MOOSE CREEK, ID</td>\n",
       "      <td>United States</td>\n",
       "      <td>NaN</td>\n",
       "      <td>NaN</td>\n",
       "      <td>NaN</td>\n",
       "      <td>NaN</td>\n",
       "      <td>...</td>\n",
       "      <td>Personal</td>\n",
       "      <td>NaN</td>\n",
       "      <td>2.0</td>\n",
       "      <td>0.0</td>\n",
       "      <td>0.0</td>\n",
       "      <td>0.0</td>\n",
       "      <td>UNK</td>\n",
       "      <td>Cruise</td>\n",
       "      <td>Probable Cause</td>\n",
       "      <td>NaN</td>\n",
       "    </tr>\n",
       "    <tr>\n",
       "      <th>1</th>\n",
       "      <td>20001218X45447</td>\n",
       "      <td>Accident</td>\n",
       "      <td>LAX94LA336</td>\n",
       "      <td>1962-07-19</td>\n",
       "      <td>BRIDGEPORT, CA</td>\n",
       "      <td>United States</td>\n",
       "      <td>NaN</td>\n",
       "      <td>NaN</td>\n",
       "      <td>NaN</td>\n",
       "      <td>NaN</td>\n",
       "      <td>...</td>\n",
       "      <td>Personal</td>\n",
       "      <td>NaN</td>\n",
       "      <td>4.0</td>\n",
       "      <td>0.0</td>\n",
       "      <td>0.0</td>\n",
       "      <td>0.0</td>\n",
       "      <td>UNK</td>\n",
       "      <td>Unknown</td>\n",
       "      <td>Probable Cause</td>\n",
       "      <td>19-09-1996</td>\n",
       "    </tr>\n",
       "    <tr>\n",
       "      <th>2</th>\n",
       "      <td>20061025X01555</td>\n",
       "      <td>Accident</td>\n",
       "      <td>NYC07LA005</td>\n",
       "      <td>1974-08-30</td>\n",
       "      <td>Saltville, VA</td>\n",
       "      <td>United States</td>\n",
       "      <td>36.9222</td>\n",
       "      <td>-81.8781</td>\n",
       "      <td>NaN</td>\n",
       "      <td>NaN</td>\n",
       "      <td>...</td>\n",
       "      <td>Personal</td>\n",
       "      <td>NaN</td>\n",
       "      <td>3.0</td>\n",
       "      <td>NaN</td>\n",
       "      <td>NaN</td>\n",
       "      <td>NaN</td>\n",
       "      <td>IMC</td>\n",
       "      <td>Cruise</td>\n",
       "      <td>Probable Cause</td>\n",
       "      <td>26-02-2007</td>\n",
       "    </tr>\n",
       "    <tr>\n",
       "      <th>3</th>\n",
       "      <td>20001218X45448</td>\n",
       "      <td>Accident</td>\n",
       "      <td>LAX96LA321</td>\n",
       "      <td>1977-06-19</td>\n",
       "      <td>EUREKA, CA</td>\n",
       "      <td>United States</td>\n",
       "      <td>NaN</td>\n",
       "      <td>NaN</td>\n",
       "      <td>NaN</td>\n",
       "      <td>NaN</td>\n",
       "      <td>...</td>\n",
       "      <td>Personal</td>\n",
       "      <td>NaN</td>\n",
       "      <td>2.0</td>\n",
       "      <td>0.0</td>\n",
       "      <td>0.0</td>\n",
       "      <td>0.0</td>\n",
       "      <td>IMC</td>\n",
       "      <td>Cruise</td>\n",
       "      <td>Probable Cause</td>\n",
       "      <td>12-09-2000</td>\n",
       "    </tr>\n",
       "    <tr>\n",
       "      <th>4</th>\n",
       "      <td>20041105X01764</td>\n",
       "      <td>Accident</td>\n",
       "      <td>CHI79FA064</td>\n",
       "      <td>1979-08-02</td>\n",
       "      <td>Canton, OH</td>\n",
       "      <td>United States</td>\n",
       "      <td>NaN</td>\n",
       "      <td>NaN</td>\n",
       "      <td>NaN</td>\n",
       "      <td>NaN</td>\n",
       "      <td>...</td>\n",
       "      <td>Personal</td>\n",
       "      <td>NaN</td>\n",
       "      <td>1.0</td>\n",
       "      <td>2.0</td>\n",
       "      <td>NaN</td>\n",
       "      <td>0.0</td>\n",
       "      <td>VMC</td>\n",
       "      <td>Approach</td>\n",
       "      <td>Probable Cause</td>\n",
       "      <td>16-04-1980</td>\n",
       "    </tr>\n",
       "    <tr>\n",
       "      <th>...</th>\n",
       "      <td>...</td>\n",
       "      <td>...</td>\n",
       "      <td>...</td>\n",
       "      <td>...</td>\n",
       "      <td>...</td>\n",
       "      <td>...</td>\n",
       "      <td>...</td>\n",
       "      <td>...</td>\n",
       "      <td>...</td>\n",
       "      <td>...</td>\n",
       "      <td>...</td>\n",
       "      <td>...</td>\n",
       "      <td>...</td>\n",
       "      <td>...</td>\n",
       "      <td>...</td>\n",
       "      <td>...</td>\n",
       "      <td>...</td>\n",
       "      <td>...</td>\n",
       "      <td>...</td>\n",
       "      <td>...</td>\n",
       "      <td>...</td>\n",
       "    </tr>\n",
       "    <tr>\n",
       "      <th>90343</th>\n",
       "      <td>20221227106491</td>\n",
       "      <td>Accident</td>\n",
       "      <td>ERA23LA093</td>\n",
       "      <td>2022-12-26</td>\n",
       "      <td>Annapolis, MD</td>\n",
       "      <td>United States</td>\n",
       "      <td>NaN</td>\n",
       "      <td>NaN</td>\n",
       "      <td>NaN</td>\n",
       "      <td>NaN</td>\n",
       "      <td>...</td>\n",
       "      <td>Personal</td>\n",
       "      <td>NaN</td>\n",
       "      <td>0.0</td>\n",
       "      <td>1.0</td>\n",
       "      <td>0.0</td>\n",
       "      <td>0.0</td>\n",
       "      <td>NaN</td>\n",
       "      <td>NaN</td>\n",
       "      <td>NaN</td>\n",
       "      <td>29-12-2022</td>\n",
       "    </tr>\n",
       "    <tr>\n",
       "      <th>90344</th>\n",
       "      <td>20221227106494</td>\n",
       "      <td>Accident</td>\n",
       "      <td>ERA23LA095</td>\n",
       "      <td>2022-12-26</td>\n",
       "      <td>Hampton, NH</td>\n",
       "      <td>United States</td>\n",
       "      <td>NaN</td>\n",
       "      <td>NaN</td>\n",
       "      <td>NaN</td>\n",
       "      <td>NaN</td>\n",
       "      <td>...</td>\n",
       "      <td>NaN</td>\n",
       "      <td>NaN</td>\n",
       "      <td>0.0</td>\n",
       "      <td>0.0</td>\n",
       "      <td>0.0</td>\n",
       "      <td>0.0</td>\n",
       "      <td>NaN</td>\n",
       "      <td>NaN</td>\n",
       "      <td>NaN</td>\n",
       "      <td>NaN</td>\n",
       "    </tr>\n",
       "    <tr>\n",
       "      <th>90345</th>\n",
       "      <td>20221227106497</td>\n",
       "      <td>Accident</td>\n",
       "      <td>WPR23LA075</td>\n",
       "      <td>2022-12-26</td>\n",
       "      <td>Payson, AZ</td>\n",
       "      <td>United States</td>\n",
       "      <td>341525N</td>\n",
       "      <td>1112021W</td>\n",
       "      <td>PAN</td>\n",
       "      <td>PAYSON</td>\n",
       "      <td>...</td>\n",
       "      <td>Personal</td>\n",
       "      <td>NaN</td>\n",
       "      <td>0.0</td>\n",
       "      <td>0.0</td>\n",
       "      <td>0.0</td>\n",
       "      <td>1.0</td>\n",
       "      <td>VMC</td>\n",
       "      <td>NaN</td>\n",
       "      <td>NaN</td>\n",
       "      <td>27-12-2022</td>\n",
       "    </tr>\n",
       "    <tr>\n",
       "      <th>90346</th>\n",
       "      <td>20221227106498</td>\n",
       "      <td>Accident</td>\n",
       "      <td>WPR23LA076</td>\n",
       "      <td>2022-12-26</td>\n",
       "      <td>Morgan, UT</td>\n",
       "      <td>United States</td>\n",
       "      <td>NaN</td>\n",
       "      <td>NaN</td>\n",
       "      <td>NaN</td>\n",
       "      <td>NaN</td>\n",
       "      <td>...</td>\n",
       "      <td>Personal</td>\n",
       "      <td>MC CESSNA 210N LLC</td>\n",
       "      <td>0.0</td>\n",
       "      <td>0.0</td>\n",
       "      <td>0.0</td>\n",
       "      <td>0.0</td>\n",
       "      <td>NaN</td>\n",
       "      <td>NaN</td>\n",
       "      <td>NaN</td>\n",
       "      <td>NaN</td>\n",
       "    </tr>\n",
       "    <tr>\n",
       "      <th>90347</th>\n",
       "      <td>20221230106513</td>\n",
       "      <td>Accident</td>\n",
       "      <td>ERA23LA097</td>\n",
       "      <td>2022-12-29</td>\n",
       "      <td>Athens, GA</td>\n",
       "      <td>United States</td>\n",
       "      <td>NaN</td>\n",
       "      <td>NaN</td>\n",
       "      <td>NaN</td>\n",
       "      <td>NaN</td>\n",
       "      <td>...</td>\n",
       "      <td>Personal</td>\n",
       "      <td>NaN</td>\n",
       "      <td>0.0</td>\n",
       "      <td>1.0</td>\n",
       "      <td>0.0</td>\n",
       "      <td>1.0</td>\n",
       "      <td>NaN</td>\n",
       "      <td>NaN</td>\n",
       "      <td>NaN</td>\n",
       "      <td>30-12-2022</td>\n",
       "    </tr>\n",
       "  </tbody>\n",
       "</table>\n",
       "<p>90348 rows × 31 columns</p>\n",
       "</div>"
      ],
      "text/plain": [
       "             Event.Id Investigation.Type Accident.Number  Event.Date  \\\n",
       "0      20001218X45444           Accident      SEA87LA080  1948-10-24   \n",
       "1      20001218X45447           Accident      LAX94LA336  1962-07-19   \n",
       "2      20061025X01555           Accident      NYC07LA005  1974-08-30   \n",
       "3      20001218X45448           Accident      LAX96LA321  1977-06-19   \n",
       "4      20041105X01764           Accident      CHI79FA064  1979-08-02   \n",
       "...               ...                ...             ...         ...   \n",
       "90343  20221227106491           Accident      ERA23LA093  2022-12-26   \n",
       "90344  20221227106494           Accident      ERA23LA095  2022-12-26   \n",
       "90345  20221227106497           Accident      WPR23LA075  2022-12-26   \n",
       "90346  20221227106498           Accident      WPR23LA076  2022-12-26   \n",
       "90347  20221230106513           Accident      ERA23LA097  2022-12-29   \n",
       "\n",
       "              Location        Country Latitude Longitude Airport.Code  \\\n",
       "0      MOOSE CREEK, ID  United States      NaN       NaN          NaN   \n",
       "1       BRIDGEPORT, CA  United States      NaN       NaN          NaN   \n",
       "2        Saltville, VA  United States  36.9222  -81.8781          NaN   \n",
       "3           EUREKA, CA  United States      NaN       NaN          NaN   \n",
       "4           Canton, OH  United States      NaN       NaN          NaN   \n",
       "...                ...            ...      ...       ...          ...   \n",
       "90343    Annapolis, MD  United States      NaN       NaN          NaN   \n",
       "90344      Hampton, NH  United States      NaN       NaN          NaN   \n",
       "90345       Payson, AZ  United States  341525N  1112021W          PAN   \n",
       "90346       Morgan, UT  United States      NaN       NaN          NaN   \n",
       "90347       Athens, GA  United States      NaN       NaN          NaN   \n",
       "\n",
       "      Airport.Name  ... Purpose.of.flight         Air.carrier  \\\n",
       "0              NaN  ...          Personal                 NaN   \n",
       "1              NaN  ...          Personal                 NaN   \n",
       "2              NaN  ...          Personal                 NaN   \n",
       "3              NaN  ...          Personal                 NaN   \n",
       "4              NaN  ...          Personal                 NaN   \n",
       "...            ...  ...               ...                 ...   \n",
       "90343          NaN  ...          Personal                 NaN   \n",
       "90344          NaN  ...               NaN                 NaN   \n",
       "90345       PAYSON  ...          Personal                 NaN   \n",
       "90346          NaN  ...          Personal  MC CESSNA 210N LLC   \n",
       "90347          NaN  ...          Personal                 NaN   \n",
       "\n",
       "      Total.Fatal.Injuries Total.Serious.Injuries Total.Minor.Injuries  \\\n",
       "0                      2.0                    0.0                  0.0   \n",
       "1                      4.0                    0.0                  0.0   \n",
       "2                      3.0                    NaN                  NaN   \n",
       "3                      2.0                    0.0                  0.0   \n",
       "4                      1.0                    2.0                  NaN   \n",
       "...                    ...                    ...                  ...   \n",
       "90343                  0.0                    1.0                  0.0   \n",
       "90344                  0.0                    0.0                  0.0   \n",
       "90345                  0.0                    0.0                  0.0   \n",
       "90346                  0.0                    0.0                  0.0   \n",
       "90347                  0.0                    1.0                  0.0   \n",
       "\n",
       "      Total.Uninjured Weather.Condition  Broad.phase.of.flight  \\\n",
       "0                 0.0               UNK                 Cruise   \n",
       "1                 0.0               UNK                Unknown   \n",
       "2                 NaN               IMC                 Cruise   \n",
       "3                 0.0               IMC                 Cruise   \n",
       "4                 0.0               VMC               Approach   \n",
       "...               ...               ...                    ...   \n",
       "90343             0.0               NaN                    NaN   \n",
       "90344             0.0               NaN                    NaN   \n",
       "90345             1.0               VMC                    NaN   \n",
       "90346             0.0               NaN                    NaN   \n",
       "90347             1.0               NaN                    NaN   \n",
       "\n",
       "        Report.Status Publication.Date  \n",
       "0      Probable Cause              NaN  \n",
       "1      Probable Cause       19-09-1996  \n",
       "2      Probable Cause       26-02-2007  \n",
       "3      Probable Cause       12-09-2000  \n",
       "4      Probable Cause       16-04-1980  \n",
       "...               ...              ...  \n",
       "90343             NaN       29-12-2022  \n",
       "90344             NaN              NaN  \n",
       "90345             NaN       27-12-2022  \n",
       "90346             NaN              NaN  \n",
       "90347             NaN       30-12-2022  \n",
       "\n",
       "[90348 rows x 31 columns]"
      ]
     },
     "execution_count": 12,
     "metadata": {},
     "output_type": "execute_result"
    }
   ],
   "source": [
    "aviation_df"
   ]
  },
  {
   "cell_type": "code",
   "execution_count": 13,
   "metadata": {},
   "outputs": [
    {
     "data": {
      "text/plain": [
       "Index(['Event.Id', 'Investigation.Type', 'Accident.Number', 'Event.Date',\n",
       "       'Location', 'Country', 'Latitude', 'Longitude', 'Airport.Code',\n",
       "       'Airport.Name', 'Injury.Severity', 'Aircraft.damage',\n",
       "       'Aircraft.Category', 'Registration.Number', 'Make', 'Model',\n",
       "       'Amateur.Built', 'Number.of.Engines', 'Engine.Type', 'FAR.Description',\n",
       "       'Schedule', 'Purpose.of.flight', 'Air.carrier', 'Total.Fatal.Injuries',\n",
       "       'Total.Serious.Injuries', 'Total.Minor.Injuries', 'Total.Uninjured',\n",
       "       'Weather.Condition', 'Broad.phase.of.flight', 'Report.Status',\n",
       "       'Publication.Date'],\n",
       "      dtype='object')"
      ]
     },
     "execution_count": 13,
     "metadata": {},
     "output_type": "execute_result"
    }
   ],
   "source": [
    "# Display the columns to understand the context of the data in the dataframe list\n",
    "\n",
    "(aviation_df.columns)"
   ]
  },
  {
   "cell_type": "code",
   "execution_count": 14,
   "metadata": {},
   "outputs": [
    {
     "data": {
      "text/plain": [
       "(90348, 31)"
      ]
     },
     "execution_count": 14,
     "metadata": {},
     "output_type": "execute_result"
    }
   ],
   "source": [
    "# Inspect the overall shape of the dataframe\n",
    "\n",
    "aviation_df.shape"
   ]
  },
  {
   "cell_type": "code",
   "execution_count": 15,
   "metadata": {},
   "outputs": [
    {
     "name": "stdout",
     "output_type": "stream",
     "text": [
      "<class 'pandas.core.frame.DataFrame'>\n",
      "RangeIndex: 90348 entries, 0 to 90347\n",
      "Data columns (total 31 columns):\n",
      " #   Column                  Non-Null Count  Dtype  \n",
      "---  ------                  --------------  -----  \n",
      " 0   Event.Id                88889 non-null  object \n",
      " 1   Investigation.Type      90348 non-null  object \n",
      " 2   Accident.Number         88889 non-null  object \n",
      " 3   Event.Date              88889 non-null  object \n",
      " 4   Location                88837 non-null  object \n",
      " 5   Country                 88663 non-null  object \n",
      " 6   Latitude                34382 non-null  object \n",
      " 7   Longitude               34373 non-null  object \n",
      " 8   Airport.Code            50249 non-null  object \n",
      " 9   Airport.Name            52790 non-null  object \n",
      " 10  Injury.Severity         87889 non-null  object \n",
      " 11  Aircraft.damage         85695 non-null  object \n",
      " 12  Aircraft.Category       32287 non-null  object \n",
      " 13  Registration.Number     87572 non-null  object \n",
      " 14  Make                    88826 non-null  object \n",
      " 15  Model                   88797 non-null  object \n",
      " 16  Amateur.Built           88787 non-null  object \n",
      " 17  Number.of.Engines       82805 non-null  float64\n",
      " 18  Engine.Type             81812 non-null  object \n",
      " 19  FAR.Description         32023 non-null  object \n",
      " 20  Schedule                12582 non-null  object \n",
      " 21  Purpose.of.flight       82697 non-null  object \n",
      " 22  Air.carrier             16648 non-null  object \n",
      " 23  Total.Fatal.Injuries    77488 non-null  float64\n",
      " 24  Total.Serious.Injuries  76379 non-null  float64\n",
      " 25  Total.Minor.Injuries    76956 non-null  float64\n",
      " 26  Total.Uninjured         82977 non-null  float64\n",
      " 27  Weather.Condition       84397 non-null  object \n",
      " 28  Broad.phase.of.flight   61724 non-null  object \n",
      " 29  Report.Status           82508 non-null  object \n",
      " 30  Publication.Date        73659 non-null  object \n",
      "dtypes: float64(5), object(26)\n",
      "memory usage: 21.4+ MB\n"
     ]
    }
   ],
   "source": [
    "# Display the info printout\n",
    "\n",
    "aviation_df.info()"
   ]
  },
  {
   "cell_type": "code",
   "execution_count": 16,
   "metadata": {},
   "outputs": [
    {
     "data": {
      "text/plain": [
       "\"There are null objects in all the columns except 'Investigation.Type'\""
      ]
     },
     "execution_count": 16,
     "metadata": {},
     "output_type": "execute_result"
    }
   ],
   "source": [
    "# Find missing objects in the columns\n",
    "\n",
    "\"\"\"There are null objects in all the columns except 'Investigation.Type'\"\"\""
   ]
  },
  {
   "cell_type": "code",
   "execution_count": 17,
   "metadata": {},
   "outputs": [],
   "source": [
    "# The first order of cleaning data is to remove unnecessary aircraft. Amateur aircraft are not suitable for this business case."
   ]
  },
  {
   "cell_type": "code",
   "execution_count": 18,
   "metadata": {},
   "outputs": [
    {
     "name": "stdout",
     "output_type": "stream",
     "text": [
      "No     80312\n",
      "Yes     8475\n",
      "Name: Amateur.Built, dtype: int64\n"
     ]
    }
   ],
   "source": [
    "# Count the number of aircraft in each category in the \"Amateur.Built\" column\n",
    "amateur_built_counts = aviation_df[\"Amateur.Built\"].value_counts()\n",
    "\n",
    "# Display the counts\n",
    "print(amateur_built_counts)\n"
   ]
  },
  {
   "cell_type": "code",
   "execution_count": 19,
   "metadata": {},
   "outputs": [
    {
     "data": {
      "text/plain": [
       "No     80312\n",
       "Yes     8475\n",
       "Name: Amateur.Built, dtype: int64"
      ]
     },
     "execution_count": 19,
     "metadata": {},
     "output_type": "execute_result"
    }
   ],
   "source": [
    "amateur_built_counts"
   ]
  },
  {
   "cell_type": "code",
   "execution_count": 20,
   "metadata": {},
   "outputs": [
    {
     "name": "stdout",
     "output_type": "stream",
     "text": [
      "             Event.Id Investigation.Type Accident.Number  Event.Date  \\\n",
      "0      20001218X45444           Accident      SEA87LA080  1948-10-24   \n",
      "1      20001218X45447           Accident      LAX94LA336  1962-07-19   \n",
      "2      20061025X01555           Accident      NYC07LA005  1974-08-30   \n",
      "3      20001218X45448           Accident      LAX96LA321  1977-06-19   \n",
      "4      20041105X01764           Accident      CHI79FA064  1979-08-02   \n",
      "...               ...                ...             ...         ...   \n",
      "90343  20221227106491           Accident      ERA23LA093  2022-12-26   \n",
      "90344  20221227106494           Accident      ERA23LA095  2022-12-26   \n",
      "90345  20221227106497           Accident      WPR23LA075  2022-12-26   \n",
      "90346  20221227106498           Accident      WPR23LA076  2022-12-26   \n",
      "90347  20221230106513           Accident      ERA23LA097  2022-12-29   \n",
      "\n",
      "              Location        Country Latitude Longitude Airport.Code  \\\n",
      "0      MOOSE CREEK, ID  United States      NaN       NaN          NaN   \n",
      "1       BRIDGEPORT, CA  United States      NaN       NaN          NaN   \n",
      "2        Saltville, VA  United States  36.9222  -81.8781          NaN   \n",
      "3           EUREKA, CA  United States      NaN       NaN          NaN   \n",
      "4           Canton, OH  United States      NaN       NaN          NaN   \n",
      "...                ...            ...      ...       ...          ...   \n",
      "90343    Annapolis, MD  United States      NaN       NaN          NaN   \n",
      "90344      Hampton, NH  United States      NaN       NaN          NaN   \n",
      "90345       Payson, AZ  United States  341525N  1112021W          PAN   \n",
      "90346       Morgan, UT  United States      NaN       NaN          NaN   \n",
      "90347       Athens, GA  United States      NaN       NaN          NaN   \n",
      "\n",
      "      Airport.Name  ... Purpose.of.flight         Air.carrier  \\\n",
      "0              NaN  ...          Personal                 NaN   \n",
      "1              NaN  ...          Personal                 NaN   \n",
      "2              NaN  ...          Personal                 NaN   \n",
      "3              NaN  ...          Personal                 NaN   \n",
      "4              NaN  ...          Personal                 NaN   \n",
      "...            ...  ...               ...                 ...   \n",
      "90343          NaN  ...          Personal                 NaN   \n",
      "90344          NaN  ...               NaN                 NaN   \n",
      "90345       PAYSON  ...          Personal                 NaN   \n",
      "90346          NaN  ...          Personal  MC CESSNA 210N LLC   \n",
      "90347          NaN  ...          Personal                 NaN   \n",
      "\n",
      "      Total.Fatal.Injuries Total.Serious.Injuries Total.Minor.Injuries  \\\n",
      "0                      2.0                    0.0                  0.0   \n",
      "1                      4.0                    0.0                  0.0   \n",
      "2                      3.0                    NaN                  NaN   \n",
      "3                      2.0                    0.0                  0.0   \n",
      "4                      1.0                    2.0                  NaN   \n",
      "...                    ...                    ...                  ...   \n",
      "90343                  0.0                    1.0                  0.0   \n",
      "90344                  0.0                    0.0                  0.0   \n",
      "90345                  0.0                    0.0                  0.0   \n",
      "90346                  0.0                    0.0                  0.0   \n",
      "90347                  0.0                    1.0                  0.0   \n",
      "\n",
      "      Total.Uninjured Weather.Condition  Broad.phase.of.flight  \\\n",
      "0                 0.0               UNK                 Cruise   \n",
      "1                 0.0               UNK                Unknown   \n",
      "2                 NaN               IMC                 Cruise   \n",
      "3                 0.0               IMC                 Cruise   \n",
      "4                 0.0               VMC               Approach   \n",
      "...               ...               ...                    ...   \n",
      "90343             0.0               NaN                    NaN   \n",
      "90344             0.0               NaN                    NaN   \n",
      "90345             1.0               VMC                    NaN   \n",
      "90346             0.0               NaN                    NaN   \n",
      "90347             1.0               NaN                    NaN   \n",
      "\n",
      "        Report.Status Publication.Date  \n",
      "0      Probable Cause              NaN  \n",
      "1      Probable Cause       19-09-1996  \n",
      "2      Probable Cause       26-02-2007  \n",
      "3      Probable Cause       12-09-2000  \n",
      "4      Probable Cause       16-04-1980  \n",
      "...               ...              ...  \n",
      "90343             NaN       29-12-2022  \n",
      "90344             NaN              NaN  \n",
      "90345             NaN       27-12-2022  \n",
      "90346             NaN              NaN  \n",
      "90347             NaN       30-12-2022  \n",
      "\n",
      "[81873 rows x 31 columns]\n"
     ]
    }
   ],
   "source": [
    "# Drop amateur built aircraft in the 'Yes' category\n",
    "\n",
    "aviation_df = aviation_df[aviation_df[\"Amateur.Built\"] != 'Yes']\n",
    "\n",
    "# Display the updated DataFrame\n",
    "print(aviation_df)"
   ]
  },
  {
   "cell_type": "code",
   "execution_count": 21,
   "metadata": {},
   "outputs": [
    {
     "name": "stdout",
     "output_type": "stream",
     "text": [
      "<class 'pandas.core.frame.DataFrame'>\n",
      "Int64Index: 81873 entries, 0 to 90347\n",
      "Data columns (total 31 columns):\n",
      " #   Column                  Non-Null Count  Dtype  \n",
      "---  ------                  --------------  -----  \n",
      " 0   Event.Id                80414 non-null  object \n",
      " 1   Investigation.Type      81873 non-null  object \n",
      " 2   Accident.Number         80414 non-null  object \n",
      " 3   Event.Date              80414 non-null  object \n",
      " 4   Location                80363 non-null  object \n",
      " 5   Country                 80194 non-null  object \n",
      " 6   Latitude                30201 non-null  object \n",
      " 7   Longitude               30195 non-null  object \n",
      " 8   Airport.Code            45083 non-null  object \n",
      " 9   Airport.Name            47411 non-null  object \n",
      " 10  Injury.Severity         79415 non-null  object \n",
      " 11  Aircraft.damage         77249 non-null  object \n",
      " 12  Aircraft.Category       28740 non-null  object \n",
      " 13  Registration.Number     79134 non-null  object \n",
      " 14  Make                    80366 non-null  object \n",
      " 15  Model                   80345 non-null  object \n",
      " 16  Amateur.Built           80312 non-null  object \n",
      " 17  Number.of.Engines       74626 non-null  float64\n",
      " 18  Engine.Type             73669 non-null  object \n",
      " 19  FAR.Description         28497 non-null  object \n",
      " 20  Schedule                12340 non-null  object \n",
      " 21  Purpose.of.flight       74278 non-null  object \n",
      " 22  Air.carrier             15653 non-null  object \n",
      " 23  Total.Fatal.Injuries    70189 non-null  float64\n",
      " 24  Total.Serious.Injuries  69239 non-null  float64\n",
      " 25  Total.Minor.Injuries    69762 non-null  float64\n",
      " 26  Total.Uninjured         75457 non-null  float64\n",
      " 27  Weather.Condition       76002 non-null  object \n",
      " 28  Broad.phase.of.flight   56165 non-null  object \n",
      " 29  Report.Status           74381 non-null  object \n",
      " 30  Publication.Date        66315 non-null  object \n",
      "dtypes: float64(5), object(26)\n",
      "memory usage: 20.0+ MB\n"
     ]
    }
   ],
   "source": [
    "# Display the info printout\n",
    "\n",
    "aviation_df.info()"
   ]
  },
  {
   "cell_type": "code",
   "execution_count": 22,
   "metadata": {},
   "outputs": [
    {
     "data": {
      "text/plain": [
       "Airplane             24434\n",
       "Helicopter            3297\n",
       "Glider                 476\n",
       "Balloon                229\n",
       "Weight-Shift           139\n",
       "Powered Parachute       83\n",
       "Gyrocraft               32\n",
       "Ultralight              18\n",
       "Unknown                 11\n",
       "WSFT                     9\n",
       "Powered-Lift             5\n",
       "Blimp                    4\n",
       "UNK                      2\n",
       "Rocket                   1\n",
       "Name: Aircraft.Category, dtype: int64"
      ]
     },
     "execution_count": 22,
     "metadata": {},
     "output_type": "execute_result"
    }
   ],
   "source": [
    "# Identify number of aircraft in each category in \"Aircraft.Category\"\n",
    "\n",
    "aviation_df[\"Aircraft.Category\"].value_counts()"
   ]
  },
  {
   "cell_type": "code",
   "execution_count": 23,
   "metadata": {},
   "outputs": [
    {
     "name": "stdout",
     "output_type": "stream",
     "text": [
      "             Event.Id Investigation.Type Accident.Number  Event.Date  \\\n",
      "0      20001218X45444           Accident      SEA87LA080  1948-10-24   \n",
      "1      20001218X45447           Accident      LAX94LA336  1962-07-19   \n",
      "2      20061025X01555           Accident      NYC07LA005  1974-08-30   \n",
      "3      20001218X45448           Accident      LAX96LA321  1977-06-19   \n",
      "4      20041105X01764           Accident      CHI79FA064  1979-08-02   \n",
      "...               ...                ...             ...         ...   \n",
      "90343  20221227106491           Accident      ERA23LA093  2022-12-26   \n",
      "90344  20221227106494           Accident      ERA23LA095  2022-12-26   \n",
      "90345  20221227106497           Accident      WPR23LA075  2022-12-26   \n",
      "90346  20221227106498           Accident      WPR23LA076  2022-12-26   \n",
      "90347  20221230106513           Accident      ERA23LA097  2022-12-29   \n",
      "\n",
      "              Location        Country Latitude Longitude Airport.Code  \\\n",
      "0      MOOSE CREEK, ID  United States      NaN       NaN          NaN   \n",
      "1       BRIDGEPORT, CA  United States      NaN       NaN          NaN   \n",
      "2        Saltville, VA  United States  36.9222  -81.8781          NaN   \n",
      "3           EUREKA, CA  United States      NaN       NaN          NaN   \n",
      "4           Canton, OH  United States      NaN       NaN          NaN   \n",
      "...                ...            ...      ...       ...          ...   \n",
      "90343    Annapolis, MD  United States      NaN       NaN          NaN   \n",
      "90344      Hampton, NH  United States      NaN       NaN          NaN   \n",
      "90345       Payson, AZ  United States  341525N  1112021W          PAN   \n",
      "90346       Morgan, UT  United States      NaN       NaN          NaN   \n",
      "90347       Athens, GA  United States      NaN       NaN          NaN   \n",
      "\n",
      "      Airport.Name  ... Purpose.of.flight         Air.carrier  \\\n",
      "0              NaN  ...          Personal                 NaN   \n",
      "1              NaN  ...          Personal                 NaN   \n",
      "2              NaN  ...          Personal                 NaN   \n",
      "3              NaN  ...          Personal                 NaN   \n",
      "4              NaN  ...          Personal                 NaN   \n",
      "...            ...  ...               ...                 ...   \n",
      "90343          NaN  ...          Personal                 NaN   \n",
      "90344          NaN  ...               NaN                 NaN   \n",
      "90345       PAYSON  ...          Personal                 NaN   \n",
      "90346          NaN  ...          Personal  MC CESSNA 210N LLC   \n",
      "90347          NaN  ...          Personal                 NaN   \n",
      "\n",
      "      Total.Fatal.Injuries Total.Serious.Injuries Total.Minor.Injuries  \\\n",
      "0                      2.0                    0.0                  0.0   \n",
      "1                      4.0                    0.0                  0.0   \n",
      "2                      3.0                    NaN                  NaN   \n",
      "3                      2.0                    0.0                  0.0   \n",
      "4                      1.0                    2.0                  NaN   \n",
      "...                    ...                    ...                  ...   \n",
      "90343                  0.0                    1.0                  0.0   \n",
      "90344                  0.0                    0.0                  0.0   \n",
      "90345                  0.0                    0.0                  0.0   \n",
      "90346                  0.0                    0.0                  0.0   \n",
      "90347                  0.0                    1.0                  0.0   \n",
      "\n",
      "      Total.Uninjured Weather.Condition  Broad.phase.of.flight  \\\n",
      "0                 0.0               UNK                 Cruise   \n",
      "1                 0.0               UNK                Unknown   \n",
      "2                 NaN               IMC                 Cruise   \n",
      "3                 0.0               IMC                 Cruise   \n",
      "4                 0.0               VMC               Approach   \n",
      "...               ...               ...                    ...   \n",
      "90343             0.0               NaN                    NaN   \n",
      "90344             0.0               NaN                    NaN   \n",
      "90345             1.0               VMC                    NaN   \n",
      "90346             0.0               NaN                    NaN   \n",
      "90347             1.0               NaN                    NaN   \n",
      "\n",
      "        Report.Status Publication.Date  \n",
      "0      Probable Cause              NaN  \n",
      "1      Probable Cause       19-09-1996  \n",
      "2      Probable Cause       26-02-2007  \n",
      "3      Probable Cause       12-09-2000  \n",
      "4      Probable Cause       16-04-1980  \n",
      "...               ...              ...  \n",
      "90343             NaN       29-12-2022  \n",
      "90344             NaN              NaN  \n",
      "90345             NaN       27-12-2022  \n",
      "90346             NaN              NaN  \n",
      "90347             NaN       30-12-2022  \n",
      "\n",
      "[80864 rows x 31 columns]\n"
     ]
    }
   ],
   "source": [
    "# Drop \"Aircraft.Category\" values that are equal to 'Glider', 'Balloon', 'Weight-Shift', 'Powered Parachute', 'Gyrocraft', 'Ultralight', 'Unknown', 'WSFT', 'Powered-Lift' , 'Blimp' , 'UNK', 'Rocket'\n",
    "\n",
    "# Define the categories to drop\n",
    "categories_to_drop = [\n",
    "    'Glider', 'Balloon', 'Weight-Shift', 'Powered Parachute', \n",
    "    'Gyrocraft', 'Ultralight', 'Unknown', 'WSFT', \n",
    "    'Powered-Lift', 'Blimp', 'UNK', 'Rocket'\n",
    "]\n",
    "\n",
    "# Drop rows where 'Aircraft.Category' is in the specified list\n",
    "aviation_df = aviation_df[~aviation_df[\"Aircraft.Category\"].isin(categories_to_drop)]\n",
    "\n",
    "# Display the updated DataFrame\n",
    "print(aviation_df)"
   ]
  },
  {
   "cell_type": "code",
   "execution_count": 24,
   "metadata": {},
   "outputs": [
    {
     "name": "stdout",
     "output_type": "stream",
     "text": [
      "<class 'pandas.core.frame.DataFrame'>\n",
      "Int64Index: 80864 entries, 0 to 90347\n",
      "Data columns (total 31 columns):\n",
      " #   Column                  Non-Null Count  Dtype  \n",
      "---  ------                  --------------  -----  \n",
      " 0   Event.Id                79405 non-null  object \n",
      " 1   Investigation.Type      80864 non-null  object \n",
      " 2   Accident.Number         79405 non-null  object \n",
      " 3   Event.Date              79405 non-null  object \n",
      " 4   Location                79354 non-null  object \n",
      " 5   Country                 79185 non-null  object \n",
      " 6   Latitude                29282 non-null  object \n",
      " 7   Longitude               29276 non-null  object \n",
      " 8   Airport.Code            44546 non-null  object \n",
      " 9   Airport.Name            46852 non-null  object \n",
      " 10  Injury.Severity         78411 non-null  object \n",
      " 11  Aircraft.damage         76345 non-null  object \n",
      " 12  Aircraft.Category       27731 non-null  object \n",
      " 13  Registration.Number     78126 non-null  object \n",
      " 14  Make                    79357 non-null  object \n",
      " 15  Model                   79336 non-null  object \n",
      " 16  Amateur.Built           79303 non-null  object \n",
      " 17  Number.of.Engines       73782 non-null  float64\n",
      " 18  Engine.Type             73250 non-null  object \n",
      " 19  FAR.Description         27498 non-null  object \n",
      " 20  Schedule                12317 non-null  object \n",
      " 21  Purpose.of.flight       73297 non-null  object \n",
      " 22  Air.carrier             15253 non-null  object \n",
      " 23  Total.Fatal.Injuries    69318 non-null  float64\n",
      " 24  Total.Serious.Injuries  68326 non-null  float64\n",
      " 25  Total.Minor.Injuries    68857 non-null  float64\n",
      " 26  Total.Uninjured         74486 non-null  float64\n",
      " 27  Weather.Condition       75037 non-null  object \n",
      " 28  Broad.phase.of.flight   55952 non-null  object \n",
      " 29  Report.Status           73477 non-null  object \n",
      " 30  Publication.Date        65371 non-null  object \n",
      "dtypes: float64(5), object(26)\n",
      "memory usage: 19.7+ MB\n"
     ]
    }
   ],
   "source": [
    "# Display the info printout\n",
    "\n",
    "aviation_df.info()"
   ]
  },
  {
   "cell_type": "code",
   "execution_count": 25,
   "metadata": {},
   "outputs": [
    {
     "data": {
      "text/plain": [
       "1.0    61193\n",
       "2.0    10995\n",
       "0.0      684\n",
       "3.0      481\n",
       "4.0      427\n",
       "6.0        1\n",
       "8.0        1\n",
       "Name: Number.of.Engines, dtype: int64"
      ]
     },
     "execution_count": 25,
     "metadata": {},
     "output_type": "execute_result"
    }
   ],
   "source": [
    "# Identify number of aircraft in each category in \"Number.of.Engines\"\n",
    "\n",
    "aviation_df[\"Number.of.Engines\"].value_counts()"
   ]
  },
  {
   "cell_type": "code",
   "execution_count": 26,
   "metadata": {},
   "outputs": [
    {
     "name": "stdout",
     "output_type": "stream",
     "text": [
      "1.0    61193\n",
      "2.0    10995\n",
      "0.0      684\n",
      "3.0      481\n",
      "4.0      427\n",
      "6.0        1\n",
      "8.0        1\n",
      "Name: Number.of.Engines, dtype: int64\n"
     ]
    }
   ],
   "source": [
    "# Count the number of aircraft in each category\n",
    "engine_counts = aviation_df[\"Number.of.Engines\"].value_counts()\n",
    "\n",
    "# Display the counts\n",
    "print(engine_counts)"
   ]
  },
  {
   "cell_type": "code",
   "execution_count": 27,
   "metadata": {},
   "outputs": [
    {
     "data": {
      "image/png": "[encoded data removed]",
      "text/plain": [
       "<Figure size 576x360 with 1 Axes>"
      ]
     },
     "metadata": {
      "needs_background": "light"
     },
     "output_type": "display_data"
    }
   ],
   "source": [
    "# Group by 'Number.of.Engines' and sum the crashes\n",
    "crash_counts = aviation_df[\"Number.of.Engines\"].value_counts()\n",
    "\n",
    "# Plotting the graph\n",
    "plt.figure(figsize=(8, 5))\n",
    "crash_counts.plot(kind='bar', color='skyblue')\n",
    "plt.title('Crash Count Compared to Number of Engines')\n",
    "plt.xlabel('Number of Engines')\n",
    "plt.ylabel('Total Crashes')\n",
    "plt.xticks(rotation=45)\n",
    "plt.grid(axis='y', linestyle='--', alpha=0.7)\n",
    "plt.show()"
   ]
  },
  {
   "cell_type": "code",
   "execution_count": 28,
   "metadata": {},
   "outputs": [
    {
     "data": {
      "text/plain": [
       "'\\nThe data shows that single-engined aircraft are more likely to crash than any other type of aircraft. \\nAlso, there is an inverse correlation that implies that the more engines a plane has, the less likely it is to crash.\\n'"
      ]
     },
     "execution_count": 28,
     "metadata": {},
     "output_type": "execute_result"
    }
   ],
   "source": [
    "# Explanation:\n",
    "\n",
    "\"\"\"\n",
    "The data shows that single-engined aircraft are more likely to crash than any other type of aircraft. \n",
    "Also, there is an inverse correlation that implies that the more engines a plane has, the less likely it is to crash.\n",
    "\"\"\"\n"
   ]
  },
  {
   "cell_type": "code",
   "execution_count": 29,
   "metadata": {},
   "outputs": [
    {
     "name": "stdout",
     "output_type": "stream",
     "text": [
      "Reciprocating      61351\n",
      "Turbo Shaft         3581\n",
      "Turbo Prop          3314\n",
      "Turbo Fan           2473\n",
      "Unknown             1824\n",
      "Turbo Jet            687\n",
      "Geared Turbofan       12\n",
      "Electric               7\n",
      "UNK                    1\n",
      "Name: Engine.Type, dtype: int64\n"
     ]
    }
   ],
   "source": [
    "# Identify number of aircraft in each category in \"Engine.Type\"\n",
    "\n",
    "# Count the number of aircraft in each category of \"Engine.Type\"\n",
    "engine_type_counts = aviation_df[\"Engine.Type\"].value_counts()\n",
    "\n",
    "# Display the results\n",
    "print(engine_type_counts)"
   ]
  },
  {
   "cell_type": "code",
   "execution_count": 30,
   "metadata": {},
   "outputs": [
    {
     "data": {
      "image/png": "[encoded data removed]",
      "text/plain": [
       "<Figure size 864x432 with 1 Axes>"
      ]
     },
     "metadata": {
      "needs_background": "light"
     },
     "output_type": "display_data"
    }
   ],
   "source": [
    "# Plotting the number of aircraft by Engine Type\n",
    "\n",
    "plt.figure(figsize=(12, 6))\n",
    "engine_type_counts.plot(kind='bar', color='skyblue')\n",
    "plt.title('Number of Aircraft by Engine Type')\n",
    "plt.xlabel('Engine Type')\n",
    "plt.ylabel('Number of Aircraft')\n",
    "plt.xticks(rotation=45)  # Rotate x-axis labels for better readability\n",
    "plt.grid(axis='y', linestyle='--', alpha=0.7)\n",
    "plt.tight_layout()  # Adjust layout for better fit\n",
    "plt.show()"
   ]
  },
  {
   "cell_type": "code",
   "execution_count": 31,
   "metadata": {},
   "outputs": [
    {
     "data": {
      "text/plain": [
       "'\\nThe data shows that aircraft with reciprocating engines are more likely to crash than any other type of aircraft.\\n'"
      ]
     },
     "execution_count": 31,
     "metadata": {},
     "output_type": "execute_result"
    }
   ],
   "source": [
    "# Explanation:\n",
    "\n",
    "\"\"\"\n",
    "The data shows that aircraft with reciprocating engines are more likely to crash than any other type of aircraft.\n",
    "\"\"\""
   ]
  },
  {
   "cell_type": "code",
   "execution_count": 32,
   "metadata": {},
   "outputs": [
    {
     "name": "stdout",
     "output_type": "stream",
     "text": [
      "2000-07-08    25\n",
      "1986-05-17    24\n",
      "1982-05-16    23\n",
      "1983-08-05    22\n",
      "1983-10-01    22\n",
      "              ..\n",
      "1983-02-16     1\n",
      "2020-05-05     1\n",
      "1997-01-30     1\n",
      "1995-12-15     1\n",
      "2012-12-24     1\n",
      "Name: Event.Date, Length: 14687, dtype: int64\n"
     ]
    }
   ],
   "source": [
    "# Count the number of aircraft events on each date\n",
    "event_date_counts = aviation_df[\"Event.Date\"].value_counts()\n",
    "\n",
    "# Display the results\n",
    "print(event_date_counts)"
   ]
  },
  {
   "cell_type": "code",
   "execution_count": 33,
   "metadata": {},
   "outputs": [],
   "source": [
    "# Convert the 'Event.Date' to datetime if it's not already\n",
    "aviation_df['Event.Date'] = pd.to_datetime(aviation_df['Event.Date'], errors='coerce')\n",
    "\n",
    "# Extract the year from the Event.Date\n",
    "aviation_df['Year'] = aviation_df['Event.Date'].dt.year"
   ]
  },
  {
   "cell_type": "code",
   "execution_count": 34,
   "metadata": {},
   "outputs": [
    {
     "data": {
      "text/plain": [
       "1982.0    3273\n",
       "1983.0    3267\n",
       "1984.0    3229\n",
       "1985.0    2912\n",
       "1986.0    2679\n",
       "1987.0    2675\n",
       "1988.0    2561\n",
       "1989.0    2372\n",
       "1990.0    2331\n",
       "1991.0    2276\n",
       "1992.0    2111\n",
       "1993.0    2099\n",
       "1995.0    2085\n",
       "1994.0    2046\n",
       "1998.0    1977\n",
       "1996.0    1976\n",
       "1999.0    1974\n",
       "2000.0    1969\n",
       "1997.0    1948\n",
       "2003.0    1849\n",
       "2001.0    1838\n",
       "2002.0    1787\n",
       "2005.0    1772\n",
       "2007.0    1731\n",
       "2004.0    1711\n",
       "2008.0    1606\n",
       "2006.0    1598\n",
       "2011.0    1563\n",
       "2012.0    1538\n",
       "2010.0    1525\n",
       "2009.0    1463\n",
       "2022.0    1436\n",
       "2016.0    1433\n",
       "2018.0    1422\n",
       "2017.0    1401\n",
       "2019.0    1399\n",
       "2021.0    1393\n",
       "2013.0    1357\n",
       "2015.0    1341\n",
       "2014.0    1279\n",
       "2020.0    1196\n",
       "1979.0       2\n",
       "1981.0       1\n",
       "1977.0       1\n",
       "1974.0       1\n",
       "1962.0       1\n",
       "1948.0       1\n",
       "Name: Year, dtype: int64"
      ]
     },
     "execution_count": 34,
     "metadata": {},
     "output_type": "execute_result"
    }
   ],
   "source": [
    "aviation_df[\"Year\"].value_counts()"
   ]
  },
  {
   "cell_type": "code",
   "execution_count": 35,
   "metadata": {},
   "outputs": [],
   "source": [
    "# Count the number of crashes per year\n",
    "crashes_per_year = aviation_df['Year'].value_counts().sort_index()"
   ]
  },
  {
   "cell_type": "code",
   "execution_count": 36,
   "metadata": {},
   "outputs": [
    {
     "data": {
      "image/png": "[encoded data removed]",
      "text/plain": [
       "<Figure size 864x432 with 1 Axes>"
      ]
     },
     "metadata": {
      "needs_background": "light"
     },
     "output_type": "display_data"
    }
   ],
   "source": [
    "# Plotting the number of crashes per year\n",
    "plt.figure(figsize=(12, 6))\n",
    "crashes_per_year.plot(kind='line', marker='o', color='steelblue')\n",
    "plt.title('Number of Aircraft Crashes per Year')\n",
    "plt.xlabel('Year')\n",
    "plt.ylabel('Number of Crashes')\n",
    "plt.xticks(rotation=45)\n",
    "plt.grid(axis='y', linestyle='--', alpha=0.7)\n",
    "plt.tight_layout()  # Adjust layout for better fit\n",
    "plt.show()"
   ]
  },
  {
   "cell_type": "code",
   "execution_count": 37,
   "metadata": {},
   "outputs": [
    {
     "data": {
      "text/plain": [
       "\"\\nThe data shows that there was a marked increase of recorded crashes from the early '80s. It is likely that that was when the data recording began.\\nAs the years pass there are less and less crashes. This is probably due to newer and easier to read avionics, better built aircraft, and higher regulation in the aerospace industry.\\nA useful insight would be to buy newer aircraft with the latest flight technology.'\\n\""
      ]
     },
     "execution_count": 37,
     "metadata": {},
     "output_type": "execute_result"
    }
   ],
   "source": [
    "\"\"\"\n",
    "The data shows that there was a marked increase of recorded crashes from the early '80s. It is likely that that was when the data recording began.\n",
    "As the years pass there are less and less crashes. This is probably due to newer and easier to read avionics, better built aircraft, and higher regulation in the aerospace industry.\n",
    "A useful insight would be to buy newer aircraft with the latest flight technology.'\n",
    "\"\"\""
   ]
  },
  {
   "cell_type": "code",
   "execution_count": 38,
   "metadata": {},
   "outputs": [
    {
     "data": {
      "text/plain": [
       "Personal                     41312\n",
       "Instructional                10227\n",
       "Unknown                       6465\n",
       "Aerial Application            4698\n",
       "Business                      3920\n",
       "Positioning                   1623\n",
       "Other Work Use                1192\n",
       "Ferry                          774\n",
       "Aerial Observation             764\n",
       "Public Aircraft                701\n",
       "Executive/corporate            547\n",
       "Flight Test                    239\n",
       "Skydiving                      181\n",
       "External Load                  122\n",
       "Public Aircraft - Federal      104\n",
       "Banner Tow                     101\n",
       "Public Aircraft - Local         73\n",
       "Public Aircraft - State         64\n",
       "Air Race show                   51\n",
       "Glider Tow                      42\n",
       "Firefighting                    40\n",
       "Air Race/show                   36\n",
       "Air Drop                        11\n",
       "ASHO                             5\n",
       "PUBS                             4\n",
       "PUBL                             1\n",
       "Name: Purpose.of.flight, dtype: int64"
      ]
     },
     "execution_count": 38,
     "metadata": {},
     "output_type": "execute_result"
    }
   ],
   "source": [
    "aviation_df[\"Purpose.of.flight\"].value_counts()"
   ]
  },
  {
   "cell_type": "code",
   "execution_count": 39,
   "metadata": {},
   "outputs": [
    {
     "name": "stdout",
     "output_type": "stream",
     "text": [
      "<class 'pandas.core.frame.DataFrame'>\n",
      "Int64Index: 24434 entries, 5 to 90345\n",
      "Data columns (total 32 columns):\n",
      " #   Column                  Non-Null Count  Dtype         \n",
      "---  ------                  --------------  -----         \n",
      " 0   Event.Id                24434 non-null  object        \n",
      " 1   Investigation.Type      24434 non-null  object        \n",
      " 2   Accident.Number         24434 non-null  object        \n",
      " 3   Event.Date              24434 non-null  datetime64[ns]\n",
      " 4   Location                24427 non-null  object        \n",
      " 5   Country                 24427 non-null  object        \n",
      " 6   Latitude                19175 non-null  object        \n",
      " 7   Longitude               19169 non-null  object        \n",
      " 8   Airport.Code            15575 non-null  object        \n",
      " 9   Airport.Name            16014 non-null  object        \n",
      " 10  Injury.Severity         23621 non-null  object        \n",
      " 11  Aircraft.damage         23160 non-null  object        \n",
      " 12  Aircraft.Category       24434 non-null  object        \n",
      " 13  Registration.Number     24221 non-null  object        \n",
      " 14  Make                    24431 non-null  object        \n",
      " 15  Model                   24416 non-null  object        \n",
      " 16  Amateur.Built           24417 non-null  object        \n",
      " 17  Number.of.Engines       21872 non-null  float64       \n",
      " 18  Engine.Type             20467 non-null  object        \n",
      " 19  FAR.Description         23954 non-null  object        \n",
      " 20  Schedule                2948 non-null   object        \n",
      " 21  Purpose.of.flight       20739 non-null  object        \n",
      " 22  Air.carrier             10356 non-null  object        \n",
      " 23  Total.Fatal.Injuries    21655 non-null  float64       \n",
      " 24  Total.Serious.Injuries  21572 non-null  float64       \n",
      " 25  Total.Minor.Injuries    21856 non-null  float64       \n",
      " 26  Total.Uninjured         23705 non-null  float64       \n",
      " 27  Weather.Condition       21444 non-null  object        \n",
      " 28  Broad.phase.of.flight   5799 non-null   object        \n",
      " 29  Report.Status           19772 non-null  object        \n",
      " 30  Publication.Date        22420 non-null  object        \n",
      " 31  Year                    24434 non-null  float64       \n",
      "dtypes: datetime64[ns](1), float64(6), object(25)\n",
      "memory usage: 6.2+ MB\n"
     ]
    }
   ],
   "source": [
    "# Isolate \"Airplane\" values in \"Aircraft.Category\"\n",
    "aviation_df_airplane = aviation_df[aviation_df[\"Aircraft.Category\"] == \"Airplane\"]\n",
    "aviation_df_airplane.info()"
   ]
  },
  {
   "cell_type": "code",
   "execution_count": 103,
   "metadata": {},
   "outputs": [],
   "source": [
    "purpose_airplane_counts = aviation_df_airplane[\"Purpose.of.flight\"].value_counts()"
   ]
  },
  {
   "cell_type": "code",
   "execution_count": 111,
   "metadata": {},
   "outputs": [
    {
     "data": {
      "image/png": "[encoded data removed]",
      "text/plain": [
       "<Figure size 864x432 with 1 Axes>"
      ]
     },
     "metadata": {},
     "output_type": "display_data"
    }
   ],
   "source": [
    "# Set the style for seaborn\n",
    "sns.set(style=\"whitegrid\")\n",
    "\n",
    "# Create a bar plot\n",
    "plt.figure(figsize=(12, 6))\n",
    "sns.barplot(x=purpose_airplane_counts.index, y=purpose_airplane_counts.values, palette=\"viridis\")\n",
    "\n",
    "# Set plot title and labels\n",
    "plt.title(\"Distribution of Crashes by Flight Purposes for Airplanes\", fontsize=16)\n",
    "plt.xlabel(\"Purpose of Flight\", fontsize=14)\n",
    "plt.ylabel(\"Number of Flights\", fontsize=14)\n",
    "plt.xticks(rotation=45)\n",
    "plt.tight_layout()\n",
    "\n",
    "# Show the plot\n",
    "plt.show()"
   ]
  },
  {
   "cell_type": "code",
   "execution_count": 100,
   "metadata": {},
   "outputs": [
    {
     "data": {
      "text/plain": [
       "'The most crashes were by personal airplanes. Private airplanes are more likely to crash than those used for commercial purposes combined'"
      ]
     },
     "execution_count": 100,
     "metadata": {},
     "output_type": "execute_result"
    }
   ],
   "source": [
    "\"\"\"The most crashes were by personal airplanes. Private airplanes are more likely to crash than those used for commercial purposes combined\"\"\""
   ]
  },
  {
   "cell_type": "code",
   "execution_count": 112,
   "metadata": {},
   "outputs": [
    {
     "data": {
      "text/plain": [
       "Reciprocating      17849\n",
       "Turbo Prop          1332\n",
       "Turbo Fan            969\n",
       "Turbo Jet            153\n",
       "Unknown              135\n",
       "Geared Turbofan       12\n",
       "Turbo Shaft           11\n",
       "Electric               5\n",
       "UNK                    1\n",
       "Name: Engine.Type, dtype: int64"
      ]
     },
     "execution_count": 112,
     "metadata": {},
     "output_type": "execute_result"
    }
   ],
   "source": [
    "engtype_airplane_counts = aviation_df_airplane[\"Engine.Type\"].value_counts()\n",
    "engtype_airplane_counts"
   ]
  },
  {
   "cell_type": "code",
   "execution_count": 101,
   "metadata": {},
   "outputs": [
    {
     "name": "stdout",
     "output_type": "stream",
     "text": [
      "<class 'pandas.core.frame.DataFrame'>\n",
      "Int64Index: 3297 entries, 16 to 90326\n",
      "Data columns (total 32 columns):\n",
      " #   Column                  Non-Null Count  Dtype         \n",
      "---  ------                  --------------  -----         \n",
      " 0   Event.Id                3297 non-null   object        \n",
      " 1   Investigation.Type      3297 non-null   object        \n",
      " 2   Accident.Number         3297 non-null   object        \n",
      " 3   Event.Date              3297 non-null   datetime64[ns]\n",
      " 4   Location                3296 non-null   object        \n",
      " 5   Country                 3292 non-null   object        \n",
      " 6   Latitude                2642 non-null   object        \n",
      " 7   Longitude               2641 non-null   object        \n",
      " 8   Airport.Code            1103 non-null   object        \n",
      " 9   Airport.Name            1146 non-null   object        \n",
      " 10  Injury.Severity         3232 non-null   object        \n",
      " 11  Aircraft.damage         3226 non-null   object        \n",
      " 12  Aircraft.Category       3297 non-null   object        \n",
      " 13  Registration.Number     3255 non-null   object        \n",
      " 14  Make                    3296 non-null   object        \n",
      " 15  Model                   3297 non-null   object        \n",
      " 16  Amateur.Built           3295 non-null   object        \n",
      " 17  Number.of.Engines       2779 non-null   float64       \n",
      " 18  Engine.Type             2619 non-null   object        \n",
      " 19  FAR.Description         3201 non-null   object        \n",
      " 20  Schedule                468 non-null    object        \n",
      " 21  Purpose.of.flight       2625 non-null   object        \n",
      " 22  Air.carrier             1882 non-null   object        \n",
      " 23  Total.Fatal.Injuries    2935 non-null   float64       \n",
      " 24  Total.Serious.Injuries  2940 non-null   float64       \n",
      " 25  Total.Minor.Injuries    2985 non-null   float64       \n",
      " 26  Total.Uninjured         3170 non-null   float64       \n",
      " 27  Weather.Condition       2743 non-null   object        \n",
      " 28  Broad.phase.of.flight   669 non-null    object        \n",
      " 29  Report.Status           2452 non-null   object        \n",
      " 30  Publication.Date        2984 non-null   object        \n",
      " 31  Year                    3297 non-null   float64       \n",
      "dtypes: datetime64[ns](1), float64(6), object(25)\n",
      "memory usage: 850.0+ KB\n"
     ]
    }
   ],
   "source": [
    "# Isolate \"Helicopter\" values in \"Aircraft.Category\"\n",
    "aviation_df_helicopter = aviation_df[aviation_df[\"Aircraft.Category\"] == \"Helicopter\"]\n",
    "aviation_df_helicopter.info()"
   ]
  },
  {
   "cell_type": "code",
   "execution_count": 107,
   "metadata": {},
   "outputs": [
    {
     "data": {
      "text/plain": [
       "Personal                     581\n",
       "Instructional                519\n",
       "Aerial Application           318\n",
       "Unknown                      225\n",
       "Positioning                  191\n",
       "Other Work Use               176\n",
       "Aerial Observation           141\n",
       "Business                     129\n",
       "External Load                104\n",
       "Public Aircraft - Local       53\n",
       "Flight Test                   39\n",
       "Public Aircraft - Federal     30\n",
       "Public Aircraft - State       30\n",
       "Public Aircraft               22\n",
       "Executive/corporate           21\n",
       "Ferry                         19\n",
       "Firefighting                  17\n",
       "Air Drop                       5\n",
       "Air Race show                  2\n",
       "Air Race/show                  1\n",
       "PUBL                           1\n",
       "PUBS                           1\n",
       "Name: Purpose.of.flight, dtype: int64"
      ]
     },
     "execution_count": 107,
     "metadata": {},
     "output_type": "execute_result"
    }
   ],
   "source": [
    "purpose_helicopter_counts = aviation_df_helicopter[\"Purpose.of.flight\"].value_counts()\n",
    "purpose_helicopter_counts"
   ]
  },
  {
   "cell_type": "code",
   "execution_count": 110,
   "metadata": {},
   "outputs": [
    {
     "data": {
      "image/png": "[encoded data removed]",
      "text/plain": [
       "<Figure size 864x432 with 1 Axes>"
      ]
     },
     "metadata": {},
     "output_type": "display_data"
    }
   ],
   "source": [
    "# Set the style for seaborn\n",
    "sns.set(style=\"whitegrid\")\n",
    "\n",
    "# Create a bar plot\n",
    "plt.figure(figsize=(12, 6))\n",
    "sns.barplot(x=purpose_helicopter_counts.index, y=purpose_helicopter_counts.values, palette=\"viridis\")\n",
    "\n",
    "# Set plot title and labels\n",
    "plt.title(\"Distribution of Crashes by Flight Purposes for Helicopters\", fontsize=16)\n",
    "plt.xlabel(\"Purpose of Flight\", fontsize=14)\n",
    "plt.ylabel(\"Number of Flights\", fontsize=14)\n",
    "plt.xticks(rotation=45)\n",
    "plt.tight_layout()\n",
    "\n",
    "# Show the plot\n",
    "plt.show()"
   ]
  },
  {
   "cell_type": "code",
   "execution_count": 41,
   "metadata": {},
   "outputs": [
    {
     "data": {
      "text/plain": [
       "'Multiengine aircraft are more reliable and have less chances of crashing according to the data above.'"
      ]
     },
     "execution_count": 41,
     "metadata": {},
     "output_type": "execute_result"
    }
   ],
   "source": [
    "## What type of aircraft has a lower risk of crashes?\n",
    "\n",
    "\"\"\"Multiengine aircraft are more reliable and have less chances of crashing according to the data above.\"\"\""
   ]
  },
  {
   "cell_type": "code",
   "execution_count": 45,
   "metadata": {},
   "outputs": [
    {
     "data": {
      "text/plain": [
       "'\\nExecutive/Corporate\\nAerial observation\\nBusiness\\nFerry\\n'"
      ]
     },
     "execution_count": 45,
     "metadata": {},
     "output_type": "execute_result"
    }
   ],
   "source": [
    "# What are some possible flight purpose that align closely with the business in terms of lower crash risk?\n",
    "\n",
    "\"\"\"\n",
    "Executive/Corporate\n",
    "Aerial observation\n",
    "Business\n",
    "Ferry\n",
    "\"\"\""
   ]
  },
  {
   "cell_type": "code",
   "execution_count": 47,
   "metadata": {},
   "outputs": [
    {
     "data": {
      "text/plain": [
       "'From the data there are less helicopter crashes than airplane crashes.'"
      ]
     },
     "execution_count": 47,
     "metadata": {},
     "output_type": "execute_result"
    }
   ],
   "source": [
    "# Are helicopters less likely to crash than airplanes?\n",
    "\n",
    "\"\"\"From the data there are less helicopter crashes than airplane crashes.\"\"\""
   ]
  },
  {
   "cell_type": "code",
   "execution_count": 48,
   "metadata": {},
   "outputs": [
    {
     "data": {
      "text/plain": [
       "'No. Newer aircraft have less chances of crashing than older aircraft.'"
      ]
     },
     "execution_count": 48,
     "metadata": {},
     "output_type": "execute_result"
    }
   ],
   "source": [
    "# Should we consider older aircraft?\n",
    "\n",
    "\"\"\"No. Newer aircraft have less chances of crashing than older aircraft.\"\"\""
   ]
  },
  {
   "cell_type": "code",
   "execution_count": null,
   "metadata": {},
   "outputs": [],
   "source": []
  }
 ],
 "metadata": {
  "kernelspec": {
   "display_name": "Python 3 (ipykernel)",
   "language": "python",
   "name": "python3"
  },
  "language_info": {
   "codemirror_mode": {
    "name": "ipython",
    "version": 3
   },
   "file_extension": ".py",
   "mimetype": "text/x-python",
   "name": "python",
   "nbconvert_exporter": "python",
   "pygments_lexer": "ipython3",
   "version": "3.12.4"
  }
 },
 "nbformat": 4,
 "nbformat_minor": 4
}
